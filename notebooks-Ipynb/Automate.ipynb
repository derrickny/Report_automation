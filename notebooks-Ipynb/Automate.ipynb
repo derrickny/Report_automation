{
 "cells": [
  {
   "cell_type": "code",
   "execution_count": 43,
   "metadata": {},
   "outputs": [],
   "source": [
    "import pandas as pd\n",
    "import datetime"
   ]
  },
  {
   "cell_type": "code",
   "execution_count": null,
   "metadata": {},
   "outputs": [],
   "source": []
  },
  {
   "cell_type": "code",
   "execution_count": 44,
   "metadata": {},
   "outputs": [],
   "source": [
    "df = pd.read_excel('/Users/nyagaderrick/Developer/Report_automation/JAN_2024_KENCOM_report.xlsx', sheet_name='Sheet1')"
   ]
  },
  {
   "cell_type": "code",
   "execution_count": 45,
   "metadata": {},
   "outputs": [
    {
     "data": {
      "text/plain": [
       "<bound method NDFrame.head of           Date               Name CHECK IN TIME CHECK OUT TIME\n",
       "0   2024-01-01     Rachael Mashao             _              _\n",
       "1          NaT     Vanessa Odundo             _              _\n",
       "2          NaT        Bilal Hasan             _              _\n",
       "3          NaT     Munene Naftaly             _              _\n",
       "4          NaT       Peter Omanya             _              _\n",
       "..         ...                ...           ...            ...\n",
       "372        NaT          Ann Ngige         10:58          18:17\n",
       "373        NaT      Beril Achieng         07:36          18:03\n",
       "374        NaT       Betty Kimani         07:24          18:01\n",
       "375        NaT  Florence Njunguna         06:38          18:07\n",
       "376        NaT      Rita Wangechi         18:15              _\n",
       "\n",
       "[377 rows x 4 columns]>"
      ]
     },
     "execution_count": 45,
     "metadata": {},
     "output_type": "execute_result"
    }
   ],
   "source": [
    "df.head"
   ]
  },
  {
   "cell_type": "code",
   "execution_count": 46,
   "metadata": {},
   "outputs": [],
   "source": [
    "# Read the leave data\n",
    "leave_data = pd.read_excel('/Users/nyagaderrick/Developer/Report_automation/leave_staff.xlsx')\n",
    "\n",
    "# Split the 'Period_of_leave' column into 'From' and 'To' columns\n",
    "leave_data[['From', 'To']] = leave_data['Period_of_leave'].str.split(' to ', expand=True)\n",
    "\n",
    "# Convert the 'From' and 'To' columns to datetime format\n",
    "leave_data['From'] = pd.to_datetime(leave_data['From'], format='%d/%m/%Y')\n",
    "leave_data['To'] = pd.to_datetime(leave_data['To'], format='%d/%m/%Y')"
   ]
  },
  {
   "cell_type": "code",
   "execution_count": 52,
   "metadata": {},
   "outputs": [
    {
     "data": {
      "text/html": [
       "<div>\n",
       "<style scoped>\n",
       "    .dataframe tbody tr th:only-of-type {\n",
       "        vertical-align: middle;\n",
       "    }\n",
       "\n",
       "    .dataframe tbody tr th {\n",
       "        vertical-align: top;\n",
       "    }\n",
       "\n",
       "    .dataframe thead th {\n",
       "        text-align: right;\n",
       "    }\n",
       "</style>\n",
       "<table border=\"1\" class=\"dataframe\">\n",
       "  <thead>\n",
       "    <tr style=\"text-align: right;\">\n",
       "      <th></th>\n",
       "      <th>Name</th>\n",
       "      <th>Period_of_leave</th>\n",
       "      <th>Return_date</th>\n",
       "      <th>From</th>\n",
       "      <th>To</th>\n",
       "    </tr>\n",
       "  </thead>\n",
       "  <tbody>\n",
       "    <tr>\n",
       "      <th>0</th>\n",
       "      <td>Lyne Macharia</td>\n",
       "      <td>10/01/2024 to 15/01/2024</td>\n",
       "      <td>2024-01-16</td>\n",
       "      <td>2024-01-10</td>\n",
       "      <td>2024-01-15</td>\n",
       "    </tr>\n",
       "    <tr>\n",
       "      <th>1</th>\n",
       "      <td>Vanessa Odundo</td>\n",
       "      <td>02/10/2024 to 05/01/2024</td>\n",
       "      <td>2024-01-06</td>\n",
       "      <td>2024-10-02</td>\n",
       "      <td>2024-01-05</td>\n",
       "    </tr>\n",
       "    <tr>\n",
       "      <th>2</th>\n",
       "      <td>Ann Ngige</td>\n",
       "      <td>27/12/2023 to 02/01/2024</td>\n",
       "      <td>2024-01-03</td>\n",
       "      <td>2023-12-27</td>\n",
       "      <td>2024-01-02</td>\n",
       "    </tr>\n",
       "    <tr>\n",
       "      <th>3</th>\n",
       "      <td>Moreen Mburugu</td>\n",
       "      <td>02/01/2024 to 12/01/2024</td>\n",
       "      <td>2024-01-13</td>\n",
       "      <td>2024-01-02</td>\n",
       "      <td>2024-01-12</td>\n",
       "    </tr>\n",
       "    <tr>\n",
       "      <th>4</th>\n",
       "      <td>Joan Khabugwi</td>\n",
       "      <td>27/12/2023 to 3/01/2024</td>\n",
       "      <td>2024-01-04</td>\n",
       "      <td>2023-12-27</td>\n",
       "      <td>2024-01-03</td>\n",
       "    </tr>\n",
       "  </tbody>\n",
       "</table>\n",
       "</div>"
      ],
      "text/plain": [
       "             Name           Period_of_leave Return_date       From         To\n",
       "0   Lyne Macharia  10/01/2024 to 15/01/2024  2024-01-16 2024-01-10 2024-01-15\n",
       "1  Vanessa Odundo  02/10/2024 to 05/01/2024  2024-01-06 2024-10-02 2024-01-05\n",
       "2       Ann Ngige  27/12/2023 to 02/01/2024  2024-01-03 2023-12-27 2024-01-02\n",
       "3  Moreen Mburugu  02/01/2024 to 12/01/2024  2024-01-13 2024-01-02 2024-01-12\n",
       "4   Joan Khabugwi   27/12/2023 to 3/01/2024  2024-01-04 2023-12-27 2024-01-03"
      ]
     },
     "execution_count": 52,
     "metadata": {},
     "output_type": "execute_result"
    }
   ],
   "source": [
    "leave_data.head()"
   ]
  },
  {
   "cell_type": "code",
   "execution_count": 53,
   "metadata": {},
   "outputs": [],
   "source": [
    "# Convert the 'Date' column to datetime format\n",
    "df['Date'] = pd.to_datetime(df['Date'], format='%d/%m/%Y')"
   ]
  },
  {
   "cell_type": "code",
   "execution_count": 54,
   "metadata": {},
   "outputs": [
    {
     "data": {
      "text/plain": [
       "0   2024-01-01\n",
       "1          NaT\n",
       "2          NaT\n",
       "3          NaT\n",
       "4          NaT\n",
       "Name: Date, dtype: datetime64[ns]"
      ]
     },
     "execution_count": 54,
     "metadata": {},
     "output_type": "execute_result"
    }
   ],
   "source": [
    "df['Date'].head()"
   ]
  },
  {
   "cell_type": "code",
   "execution_count": 57,
   "metadata": {},
   "outputs": [
    {
     "name": "stdout",
     "output_type": "stream",
     "text": [
      "Employee: Lyne Macharia, From: 2024-01-10, To: 2024-01-15\n",
      "Employee: Vanessa Odundo, From: 2024-10-02, To: 2024-01-05\n",
      "Employee: Ann Ngige, From: 2023-12-27, To: 2024-01-02\n",
      "Employee: Moreen Mburugu, From: 2024-01-02, To: 2024-01-12\n",
      "Employee: Joan Khabugwi, From: 2023-12-27, To: 2024-01-03\n",
      "Employee: Bilal Hasan, From: 2023-12-27, To: 2024-01-08\n",
      "Employee: Lorna Kuria, From: 2024-01-02, To: 2024-01-03\n",
      "Employee: Rachael Mashao, From: 2023-12-19, To: 2023-12-30\n"
     ]
    }
   ],
   "source": [
    "for index, row in leave_data.iterrows():\n",
    "    employee = row['Name']\n",
    "    from_date = row['From'].date()\n",
    "    to_date = row['To'].date()\n",
    "    print(f\"Employee: {employee}, From: {from_date}, To: {to_date}\")  # Print the values\n",
    "    df.loc[(df['Name'] == employee) & (df['Date'].dt.date >= from_date) & (df['Date'].dt.date <= to_date), ['CHECK IN TIME', 'CHECK OUT TIME']] = 'Off'"
   ]
  },
  {
   "cell_type": "code",
   "execution_count": 56,
   "metadata": {},
   "outputs": [
    {
     "data": {
      "text/plain": [
       "0      False\n",
       "1      False\n",
       "2      False\n",
       "3      False\n",
       "4      False\n",
       "       ...  \n",
       "372    False\n",
       "373    False\n",
       "374    False\n",
       "375    False\n",
       "376    False\n",
       "Name: CHECK IN TIME, Length: 377, dtype: bool"
      ]
     },
     "execution_count": 56,
     "metadata": {},
     "output_type": "execute_result"
    }
   ],
   "source": [
    "# check if theres off days- off\n",
    "df['CHECK IN TIME'] == 'Off'"
   ]
  },
  {
   "cell_type": "code",
   "execution_count": 42,
   "metadata": {},
   "outputs": [],
   "source": [
    "df.to_excel('/Users/nyagaderrick/Developer/Report_automation/JAN_KENCOM_REPORT.xlsx', sheet_name='Sheet1', index=False, engine='openpyxl')\n"
   ]
  },
  {
   "cell_type": "code",
   "execution_count": null,
   "metadata": {},
   "outputs": [],
   "source": [
    "# Create a new Excel file from the df DataFrame\n",
    "df.to_excel('/path/to/your/new/excel/file.xlsx', sheet_name='Sheet1', index=False)"
   ]
  },
  {
   "cell_type": "code",
   "execution_count": null,
   "metadata": {},
   "outputs": [],
   "source": []
  }
 ],
 "metadata": {
  "kernelspec": {
   "display_name": "tensorflow",
   "language": "python",
   "name": "python3"
  },
  "language_info": {
   "codemirror_mode": {
    "name": "ipython",
    "version": 3
   },
   "file_extension": ".py",
   "mimetype": "text/x-python",
   "name": "python",
   "nbconvert_exporter": "python",
   "pygments_lexer": "ipython3",
   "version": "3.9.13"
  }
 },
 "nbformat": 4,
 "nbformat_minor": 2
}
